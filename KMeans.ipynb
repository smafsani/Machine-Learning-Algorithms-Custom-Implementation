{
 "cells": [
  {
   "cell_type": "code",
   "execution_count": 41,
   "metadata": {},
   "outputs": [],
   "source": [
    "import numpy as np\n",
    "import pandas as pd\n",
    "from sklearn.decomposition import PCA\n",
    "import matplotlib.pyplot as plt\n",
    "from IPython.display import clear_output"
   ]
  },
  {
   "cell_type": "code",
   "execution_count": 42,
   "metadata": {},
   "outputs": [],
   "source": [
    "dataFrame = pd.read_csv('Mall_Customers.csv')"
   ]
  },
  {
   "cell_type": "code",
   "execution_count": 43,
   "metadata": {
    "scrolled": true
   },
   "outputs": [
    {
     "data": {
      "text/html": [
       "<div>\n",
       "<style scoped>\n",
       "    .dataframe tbody tr th:only-of-type {\n",
       "        vertical-align: middle;\n",
       "    }\n",
       "\n",
       "    .dataframe tbody tr th {\n",
       "        vertical-align: top;\n",
       "    }\n",
       "\n",
       "    .dataframe thead th {\n",
       "        text-align: right;\n",
       "    }\n",
       "</style>\n",
       "<table border=\"1\" class=\"dataframe\">\n",
       "  <thead>\n",
       "    <tr style=\"text-align: right;\">\n",
       "      <th></th>\n",
       "      <th>Age</th>\n",
       "      <th>Annual Income (k$)</th>\n",
       "      <th>Spending Score (1-100)</th>\n",
       "    </tr>\n",
       "  </thead>\n",
       "  <tbody>\n",
       "    <tr>\n",
       "      <th>0</th>\n",
       "      <td>19</td>\n",
       "      <td>15</td>\n",
       "      <td>39</td>\n",
       "    </tr>\n",
       "    <tr>\n",
       "      <th>1</th>\n",
       "      <td>21</td>\n",
       "      <td>15</td>\n",
       "      <td>81</td>\n",
       "    </tr>\n",
       "    <tr>\n",
       "      <th>2</th>\n",
       "      <td>20</td>\n",
       "      <td>16</td>\n",
       "      <td>6</td>\n",
       "    </tr>\n",
       "    <tr>\n",
       "      <th>3</th>\n",
       "      <td>23</td>\n",
       "      <td>16</td>\n",
       "      <td>77</td>\n",
       "    </tr>\n",
       "    <tr>\n",
       "      <th>4</th>\n",
       "      <td>31</td>\n",
       "      <td>17</td>\n",
       "      <td>40</td>\n",
       "    </tr>\n",
       "  </tbody>\n",
       "</table>\n",
       "</div>"
      ],
      "text/plain": [
       "   Age  Annual Income (k$)  Spending Score (1-100)\n",
       "0   19                  15                      39\n",
       "1   21                  15                      81\n",
       "2   20                  16                       6\n",
       "3   23                  16                      77\n",
       "4   31                  17                      40"
      ]
     },
     "execution_count": 43,
     "metadata": {},
     "output_type": "execute_result"
    }
   ],
   "source": [
    "features = [\"Age\", \"Annual Income (k$)\", \"Spending Score (1-100)\"]\n",
    "dataFrame = dataFrame.dropna(subset=features)\n",
    "dataset = dataFrame[features].copy()\n",
    "dataset.head()"
   ]
  },
  {
   "cell_type": "code",
   "execution_count": 44,
   "metadata": {},
   "outputs": [
    {
     "data": {
      "text/html": [
       "<div>\n",
       "<style scoped>\n",
       "    .dataframe tbody tr th:only-of-type {\n",
       "        vertical-align: middle;\n",
       "    }\n",
       "\n",
       "    .dataframe tbody tr th {\n",
       "        vertical-align: top;\n",
       "    }\n",
       "\n",
       "    .dataframe thead th {\n",
       "        text-align: right;\n",
       "    }\n",
       "</style>\n",
       "<table border=\"1\" class=\"dataframe\">\n",
       "  <thead>\n",
       "    <tr style=\"text-align: right;\">\n",
       "      <th></th>\n",
       "      <th>Age</th>\n",
       "      <th>Annual Income (k$)</th>\n",
       "      <th>Spending Score (1-100)</th>\n",
       "    </tr>\n",
       "  </thead>\n",
       "  <tbody>\n",
       "    <tr>\n",
       "      <th>count</th>\n",
       "      <td>200.000000</td>\n",
       "      <td>200.000000</td>\n",
       "      <td>200.000000</td>\n",
       "    </tr>\n",
       "    <tr>\n",
       "      <th>mean</th>\n",
       "      <td>4.496500</td>\n",
       "      <td>1.545040</td>\n",
       "      <td>5.518000</td>\n",
       "    </tr>\n",
       "    <tr>\n",
       "      <th>std</th>\n",
       "      <td>1.257211</td>\n",
       "      <td>0.236382</td>\n",
       "      <td>2.324117</td>\n",
       "    </tr>\n",
       "    <tr>\n",
       "      <th>min</th>\n",
       "      <td>2.620000</td>\n",
       "      <td>1.135000</td>\n",
       "      <td>1.090000</td>\n",
       "    </tr>\n",
       "    <tr>\n",
       "      <th>25%</th>\n",
       "      <td>3.587500</td>\n",
       "      <td>1.373500</td>\n",
       "      <td>4.127500</td>\n",
       "    </tr>\n",
       "    <tr>\n",
       "      <th>50%</th>\n",
       "      <td>4.240000</td>\n",
       "      <td>1.553500</td>\n",
       "      <td>5.500000</td>\n",
       "    </tr>\n",
       "    <tr>\n",
       "      <th>75%</th>\n",
       "      <td>5.410000</td>\n",
       "      <td>1.702000</td>\n",
       "      <td>7.570000</td>\n",
       "    </tr>\n",
       "    <tr>\n",
       "      <th>max</th>\n",
       "      <td>7.300000</td>\n",
       "      <td>2.233000</td>\n",
       "      <td>9.910000</td>\n",
       "    </tr>\n",
       "  </tbody>\n",
       "</table>\n",
       "</div>"
      ],
      "text/plain": [
       "              Age  Annual Income (k$)  Spending Score (1-100)\n",
       "count  200.000000          200.000000              200.000000\n",
       "mean     4.496500            1.545040                5.518000\n",
       "std      1.257211            0.236382                2.324117\n",
       "min      2.620000            1.135000                1.090000\n",
       "25%      3.587500            1.373500                4.127500\n",
       "50%      4.240000            1.553500                5.500000\n",
       "75%      5.410000            1.702000                7.570000\n",
       "max      7.300000            2.233000                9.910000"
      ]
     },
     "execution_count": 44,
     "metadata": {},
     "output_type": "execute_result"
    }
   ],
   "source": [
    "dataset = dataset / (10 ** (np.ceil(np.log10(np.max(np.abs(dataset)))))) * 9 + 1\n",
    "dataset.describe()"
   ]
  },
  {
   "cell_type": "code",
   "execution_count": 78,
   "metadata": {},
   "outputs": [
    {
     "data": {
      "image/png": "[encoded data removed]",
      "text/plain": [
       "<Figure size 432x288 with 1 Axes>"
      ]
     },
     "metadata": {
      "needs_background": "light"
     },
     "output_type": "display_data"
    },
    {
     "data": {
      "text/plain": [
       "array([0, 4, 3, 4, 0, 4, 3, 2, 3, 4, 3, 2, 3, 4, 3, 4, 0, 4, 3, 2, 0, 4,\n",
       "       3, 4, 3, 4, 3, 4, 3, 2, 3, 4, 3, 2, 3, 4, 3, 4, 3, 4, 1, 2, 1, 4,\n",
       "       3, 4, 1, 0, 0, 0, 1, 4, 0, 1, 1, 1, 1, 1, 0, 1, 1, 0, 1, 1, 1, 0,\n",
       "       1, 1, 0, 0, 1, 1, 1, 1, 1, 0, 1, 0, 0, 1, 1, 0, 1, 1, 0, 1, 1, 0,\n",
       "       4, 1, 1, 0, 1, 0, 0, 0, 1, 0, 1, 0, 0, 1, 1, 0, 1, 0, 1, 1, 1, 1,\n",
       "       1, 0, 0, 0, 0, 0, 1, 1, 1, 1, 0, 0, 0, 2, 0, 4, 1, 2, 3, 4, 3, 4,\n",
       "       0, 4, 3, 2, 3, 4, 3, 4, 3, 2, 0, 2, 3, 2, 1, 4, 3, 2, 3, 2, 3, 4,\n",
       "       3, 2, 3, 4, 3, 4, 1, 2, 3, 2, 3, 4, 3, 2, 3, 4, 3, 4, 3, 2, 3, 2,\n",
       "       3, 4, 3, 2, 0, 2, 3, 2, 0, 2, 3, 4, 3, 2, 3, 4, 3, 2, 3, 4, 3, 4,\n",
       "       3, 2], dtype=int64)"
      ]
     },
     "execution_count": 78,
     "metadata": {},
     "output_type": "execute_result"
    }
   ],
   "source": [
    "def euclidean_distance(x, y):\n",
    "    return np.sqrt(((x - y) ** 2).sum())\n",
    "    \n",
    "class KMeans:\n",
    "    def __init__(self, k, max_iter=100, random_state=42):\n",
    "        self.k = k\n",
    "        self.max_iter = max_iter\n",
    "        self.centroids = None\n",
    "        self.clusters = [[]]*self.k\n",
    "        self.X = None\n",
    "        self.random_state = random_state\n",
    "    \n",
    "    def set_random_centroids(self):\n",
    "        centroids = []\n",
    "        for i in range(self.k):\n",
    "            centroid = self.X.apply(lambda x : float(x.sample()))\n",
    "            centroids.append(centroid)\n",
    "    #     print(np.array(centroids))\n",
    "        return np.array(centroids)\n",
    "\n",
    "    def assign_clusters(self):\n",
    "        clusters = []\n",
    "        for i in range(self.n_samples):\n",
    "            distances = []\n",
    "            for j in range(self.k):\n",
    "                distance = euclidean_distance(self.X.loc[i], self.centroids[j])\n",
    "                distances.append(distance)\n",
    "            clusters.append(np.argmin(distances))\n",
    "        return np.array(clusters)\n",
    "    \n",
    "    def update_centroids(self):\n",
    "        new_centroids = []\n",
    "        clusters_points = list(set(self.clusters))\n",
    "        for point in clusters_points:\n",
    "            new_centroids.append(self.X[self.clusters == point].mean(axis=0))\n",
    "        return np.array(new_centroids)\n",
    "    \n",
    "    def fit(self, X):\n",
    "        self.X = X\n",
    "        self.n_samples, self.n_features = self.X.shape\n",
    "        self.centroids = self.set_random_centroids()\n",
    "        self.iteration_count = 0\n",
    "        for _ in range(self.max_iter):\n",
    "            self.clusters = self.assign_clusters()\n",
    "            old_centroids = self.centroids.copy()\n",
    "            self.centroids = self.update_centroids()\n",
    "            self.iteration_count += 1\n",
    "            self.plot_clusters(iteration_count=self.iteration_count)\n",
    "\n",
    "            if np.subtract(self.centroids, old_centroids).sum() == 0:\n",
    "                break\n",
    "        return self.clusters\n",
    "    \n",
    "    def plot_clusters(self, iteration_count):\n",
    "        pca = PCA(n_components=2)\n",
    "        dataset_2d = pca.fit_transform(self.X)\n",
    "        centroids_2d = pca.fit_transform(self.centroids)\n",
    "        clear_output(wait=True)\n",
    "        plt.title(f\"ON ITERATION {iteration_count}\")\n",
    "        plt.scatter(x=dataset_2d[:, 0], y=dataset_2d[:, 1], c=self.clusters)\n",
    "        plt.scatter(x=centroids_2d[:, 0], y=centroids_2d[:, 1], c=\"red\")\n",
    "        plt.show()\n",
    "        \n",
    "    def cost_(self):\n",
    "        cost = 0\n",
    "        for i in range(self.n_samples):\n",
    "            centroid = self.centroids[self.clusters[i]]\n",
    "            distance = np.linalg.norm(self.X.loc[i] - centroid)\n",
    "            cost += distance ** 2\n",
    "        return cost\n",
    "    \n",
    "kmeans = KMeans(k=5, max_iter=100)\n",
    "res = kmeans.fit(dataset)\n",
    "res"
   ]
  },
  {
   "cell_type": "code",
   "execution_count": 79,
   "metadata": {},
   "outputs": [
    {
     "data": {
      "text/plain": [
       "204.11818778604442"
      ]
     },
     "execution_count": 79,
     "metadata": {},
     "output_type": "execute_result"
    }
   ],
   "source": [
    "cost = kmeans.cost_()\n",
    "cost"
   ]
  },
  {
   "cell_type": "code",
   "execution_count": 80,
   "metadata": {},
   "outputs": [
    {
     "name": "stdout",
     "output_type": "stream",
     "text": [
      "Cost function value: 203.60848972729198\n"
     ]
    }
   ],
   "source": [
    "from sklearn.cluster import KMeans\n",
    "\n",
    "# Assuming you have a dataset 'X' and the desired number of clusters 'n_clusters'\n",
    "\n",
    "# Create an instance of KMeans\n",
    "kmeans = KMeans(n_clusters=5)\n",
    "\n",
    "# Fit the K-means algorithm to the data\n",
    "kmeans.fit(dataset)\n",
    "\n",
    "# Get the cost function value\n",
    "cost = kmeans.inertia_\n",
    "print(\"Cost function value:\", cost)"
   ]
  },
  {
   "cell_type": "code",
   "execution_count": null,
   "metadata": {},
   "outputs": [],
   "source": []
  }
 ],
 "metadata": {
  "kernelspec": {
   "display_name": "Python 3",
   "language": "python",
   "name": "python3"
  },
  "language_info": {
   "codemirror_mode": {
    "name": "ipython",
    "version": 3
   },
   "file_extension": ".py",
   "mimetype": "text/x-python",
   "name": "python",
   "nbconvert_exporter": "python",
   "pygments_lexer": "ipython3",
   "version": "3.8.5"
  }
 },
 "nbformat": 4,
 "nbformat_minor": 4
}
