{
 "cells": [
  {
   "cell_type": "code",
   "execution_count": 78,
   "metadata": {},
   "outputs": [],
   "source": [
    "from sklearn import datasets\n",
    "import pandas as pd\n",
    "from sklearn import linear_model\n",
    "from sklearn.model_selection import train_test_split\n",
    "import numpy as np\n",
    "from sklearn.metrics import mean_squared_error\n",
    "import matplotlib.pyplot as plt"
   ]
  },
  {
   "cell_type": "code",
   "execution_count": 79,
   "metadata": {},
   "outputs": [],
   "source": [
    "boston = datasets.load_boston()\n",
    "bostonDf = pd.DataFrame(boston.data, columns = boston.feature_names)\n",
    "bostonDf['target'] = boston.target"
   ]
  },
  {
   "cell_type": "code",
   "execution_count": 80,
   "metadata": {},
   "outputs": [],
   "source": [
    "xtr, xte, ytr, yte = train_test_split(bostonDf.drop('target', axis = 1), bostonDf['target'], test_size = 0.2, random_state = 1)"
   ]
  },
  {
   "cell_type": "code",
   "execution_count": 93,
   "metadata": {},
   "outputs": [],
   "source": [
    "class CustomLinearRegression:\n",
    "    def fit(self, features, t):\n",
    "        x = np.copy(features)\n",
    "        x = np.insert(x, 0, 1.0, axis = 1)\n",
    "        xT = np.transpose(x)\n",
    "        xTx = np.matmul(xT, x)\n",
    "        xTx_inv = np.linalg.inv(xTx)\n",
    "        xTt = np.matmul(xT, t)\n",
    "        self.w = np.matmul(xTx_inv, xTt)\n",
    "        self.intercept_ = self.w[0]\n",
    "        self.coef_ = self.w[1:]\n",
    "    \n",
    "    def predict(self, x):\n",
    "        x_new = np.copy(x)\n",
    "        x_new = np.insert(x_new, 0, 1.0, axis = 1)\n",
    "        rows = x_new.shape[0]\n",
    "        wTx = []\n",
    "        wT = np.transpose(self.w)\n",
    "        for i in range(rows):\n",
    "            wTx.append(np.matmul(wT, x_new[i]))\n",
    "            \n",
    "        return wTx\n",
    "    \n",
    "    def rmse_score(self, t, y):\n",
    "        mse = ((t - y) ** 2).mean()\n",
    "        rmse = np.sqrt(mse)\n",
    "        return rmse\n",
    "    \n",
    "    def score(self, y_true, y_predict):\n",
    "        u = ((y_true - y_predict)** 2).sum()\n",
    "        v = ((y_true - y_true.mean()) ** 2).sum()\n",
    "        return 1 - (u/v)"
   ]
  },
  {
   "cell_type": "code",
   "execution_count": 96,
   "metadata": {},
   "outputs": [
    {
     "name": "stdout",
     "output_type": "stream",
     "text": [
      "42.93352585337766\n",
      "[-1.12386867e-01  5.80587074e-02  1.83593559e-02  2.12997760e+00\n",
      " -1.95811012e+01  3.09546166e+00  4.45265228e-03 -1.50047624e+00\n",
      "  3.05358969e-01 -1.11230879e-02 -9.89007562e-01  7.32130017e-03\n",
      " -5.44644997e-01]\n",
      "\n",
      "Training Data: \n",
      "RMSE -> 4.675766751547771\n",
      "Coefficient of determination: 0.7293585058196337\n",
      "\n",
      "Testing Data: \n",
      "RMSE -> 4.835373458200654\n",
      "Coefficient of determination: 0.7634174432138358\n"
     ]
    }
   ],
   "source": [
    "custom_model = CustomLinearRegression()\n",
    "custom_model.fit(xtr, ytr)\n",
    "print(custom_model.intercept_)\n",
    "print(custom_model.coef_)\n",
    "\n",
    "custom_ytrain_predict = custom_model.predict(xtr)\n",
    "print(f\"\\nTraining Data: \\nRMSE -> {custom_model.rmse_score(ytr, custom_ytrain_predict)}\\nCoefficient of determination: {custom_model.score(ytr, custom_ytrain_predict)}\")\n",
    "custom_ytest_predict = custom_model.predict(xte)\n",
    "print(f\"\\nTesting Data: \\nRMSE -> {custom_model.rmse_score(yte, custom_ytest_predict)}\\nCoefficient of determination: {custom_model.score(yte, custom_ytest_predict)}\")\n"
   ]
  },
  {
   "cell_type": "code",
   "execution_count": null,
   "metadata": {},
   "outputs": [],
   "source": []
  },
  {
   "cell_type": "code",
   "execution_count": 101,
   "metadata": {},
   "outputs": [],
   "source": [
    "def rmse_score(t, y):\n",
    "    mse = ((t - y) ** 2).mean()\n",
    "    rmse = np.sqrt(mse)\n",
    "    return rmse"
   ]
  },
  {
   "cell_type": "code",
   "execution_count": 103,
   "metadata": {},
   "outputs": [
    {
     "name": "stdout",
     "output_type": "stream",
     "text": [
      "42.93352585337733\n",
      "[-1.12386867e-01  5.80587074e-02  1.83593559e-02  2.12997760e+00\n",
      " -1.95811012e+01  3.09546166e+00  4.45265228e-03 -1.50047624e+00\n",
      "  3.05358969e-01 -1.11230879e-02 -9.89007562e-01  7.32130017e-03\n",
      " -5.44644997e-01]\n",
      "\n",
      "Training Data: \n",
      "RMSE -> 4.675766751547773\n",
      "Coefficient of determination: 0.7293585058196337\n",
      "\n",
      "Testing Data: \n",
      "RMSE -> 4.835373458200553\n",
      "Coefficient of determination: 0.7634174432138456\n"
     ]
    }
   ],
   "source": [
    "from sklearn.linear_model import LinearRegression\n",
    "original_model = LinearRegression()\n",
    "original_model.fit(xtr, ytr)\n",
    "print(original_model.intercept_)\n",
    "print(original_model.coef_)\n",
    "\n",
    "ytr_pred = original_model.predict(xtr)\n",
    "print(f\"\\nTraining Data: \\nRMSE -> {rmse_score(ytr, ytr_pred)}\\nCoefficient of determination: {original_model.score(xtr, ytr)}\")\n",
    "yte_pred = original_model.predict(xte)\n",
    "print(f\"\\nTesting Data: \\nRMSE -> {rmse_score(yte, yte_pred)}\\nCoefficient of determination: {original_model.score(xte, yte)}\")\n"
   ]
  },
  {
   "cell_type": "code",
   "execution_count": 140,
   "metadata": {},
   "outputs": [
    {
     "name": "stdout",
     "output_type": "stream",
     "text": [
      "Linear Regression using custom model and sklearn built-in model: \n"
     ]
    },
    {
     "data": {
      "text/html": [
       "<div>\n",
       "<style scoped>\n",
       "    .dataframe tbody tr th:only-of-type {\n",
       "        vertical-align: middle;\n",
       "    }\n",
       "\n",
       "    .dataframe tbody tr th {\n",
       "        vertical-align: top;\n",
       "    }\n",
       "\n",
       "    .dataframe thead th {\n",
       "        text-align: right;\n",
       "    }\n",
       "</style>\n",
       "<table border=\"1\" class=\"dataframe\">\n",
       "  <thead>\n",
       "    <tr style=\"text-align: right;\">\n",
       "      <th></th>\n",
       "      <th>Model</th>\n",
       "      <th>Data</th>\n",
       "      <th>Intercept</th>\n",
       "      <th>RMSE Score</th>\n",
       "      <th>Coefficient</th>\n",
       "    </tr>\n",
       "  </thead>\n",
       "  <tbody>\n",
       "    <tr>\n",
       "      <th>0</th>\n",
       "      <td>Custom Model</td>\n",
       "      <td>Training Data</td>\n",
       "      <td>42.93352585337766</td>\n",
       "      <td>4.675766751547771</td>\n",
       "      <td>0.7293585058196337</td>\n",
       "    </tr>\n",
       "    <tr>\n",
       "      <th>1</th>\n",
       "      <td>SKLEARN Model</td>\n",
       "      <td>Training Data</td>\n",
       "      <td>42.93352585337733</td>\n",
       "      <td>4.675766751547773</td>\n",
       "      <td>0.7293585058196337</td>\n",
       "    </tr>\n",
       "    <tr>\n",
       "      <th>2</th>\n",
       "      <td>Custom Model</td>\n",
       "      <td>Testing Data</td>\n",
       "      <td>42.93352585337766</td>\n",
       "      <td>4.835373458200654</td>\n",
       "      <td>0.7634174432138358</td>\n",
       "    </tr>\n",
       "    <tr>\n",
       "      <th>3</th>\n",
       "      <td>SKLEARN Model</td>\n",
       "      <td>Testing Data</td>\n",
       "      <td>42.93352585337733</td>\n",
       "      <td>4.835373458200553</td>\n",
       "      <td>0.7634174432138456</td>\n",
       "    </tr>\n",
       "  </tbody>\n",
       "</table>\n",
       "</div>"
      ],
      "text/plain": [
       "           Model           Data          Intercept         RMSE Score  \\\n",
       "0   Custom Model  Training Data  42.93352585337766  4.675766751547771   \n",
       "1  SKLEARN Model  Training Data  42.93352585337733  4.675766751547773   \n",
       "2   Custom Model   Testing Data  42.93352585337766  4.835373458200654   \n",
       "3  SKLEARN Model   Testing Data  42.93352585337733  4.835373458200553   \n",
       "\n",
       "          Coefficient  \n",
       "0  0.7293585058196337  \n",
       "1  0.7293585058196337  \n",
       "2  0.7634174432138358  \n",
       "3  0.7634174432138456  "
      ]
     },
     "execution_count": 140,
     "metadata": {},
     "output_type": "execute_result"
    }
   ],
   "source": [
    "data = np.array([\n",
    "    ['Custom Model', 'Training Data', custom_model.intercept_, custom_model.rmse_score(ytr, custom_ytrain_predict),\n",
    "        custom_model.score(ytr, custom_ytrain_predict)],\n",
    "    ['SKLEARN Model', 'Training Data', original_model.intercept_, rmse_score(ytr, ytr_pred),\n",
    "        original_model.score(xtr, ytr)],\n",
    "    ['Custom Model', 'Testing Data', custom_model.intercept_, custom_model.rmse_score(yte, custom_ytest_predict),\n",
    "        custom_model.score(yte, custom_ytest_predict)],\n",
    "    ['SKLEARN Model', 'Testing Data', original_model.intercept_, rmse_score(yte, yte_pred),\n",
    "        original_model.score(xte, yte)]\n",
    "])\n",
    "result = pd.DataFrame(data, columns=['Model', 'Data', 'Intercept', 'RMSE Score', 'Coefficient'])\n",
    "print(f\"Linear Regression using custom model and sklearn built-in model: \")\n",
    "result"
   ]
  },
  {
   "cell_type": "code",
   "execution_count": null,
   "metadata": {},
   "outputs": [],
   "source": []
  },
  {
   "cell_type": "code",
   "execution_count": null,
   "metadata": {},
   "outputs": [],
   "source": []
  }
 ],
 "metadata": {
  "kernelspec": {
   "display_name": "Python 3",
   "language": "python",
   "name": "python3"
  },
  "language_info": {
   "codemirror_mode": {
    "name": "ipython",
    "version": 3
   },
   "file_extension": ".py",
   "mimetype": "text/x-python",
   "name": "python",
   "nbconvert_exporter": "python",
   "pygments_lexer": "ipython3",
   "version": "3.8.5"
  }
 },
 "nbformat": 4,
 "nbformat_minor": 4
}
