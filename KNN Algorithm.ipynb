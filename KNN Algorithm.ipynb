{
 "cells": [
  {
   "cell_type": "code",
   "execution_count": 189,
   "metadata": {},
   "outputs": [],
   "source": [
    "import pandas as pd\n",
    "import numpy as np\n",
    "from sklearn import datasets\n",
    "from collections import Counter\n",
    "iris = datasets.load_iris()\n",
    "irisDf = pd.DataFrame(iris.data, columns=iris.feature_names)\n",
    "irisDf['target'] = iris.target\n"
   ]
  },
  {
   "cell_type": "code",
   "execution_count": 190,
   "metadata": {},
   "outputs": [],
   "source": [
    "def Train_Test_Split(dataset, target, test_size = 0, random_state=None):\n",
    "    dataset['target'] = target\n",
    "    shuffled_data = dataset.sample(frac = 1, random_state = random_state)\n",
    "    test_size = int(test_size * len(dataset))\n",
    "    train_size = int(len(dataset) - test_size)\n",
    "    # Splitted Training Data  \n",
    "    training_dataset = shuffled_data[:train_size]\n",
    "    train_x = training_dataset.drop('target', axis = 1)\n",
    "    train_y = training_dataset['target']\n",
    "    # Splitted Testing Data\n",
    "    test_dataset = shuffled_data[train_size:]\n",
    "    test_x = test_dataset.drop('target', axis = 1)\n",
    "    test_y = test_dataset['target']\n",
    "    \n",
    "    return train_x, test_x, train_y, test_y"
   ]
  },
  {
   "cell_type": "code",
   "execution_count": 191,
   "metadata": {},
   "outputs": [],
   "source": [
    "xtrain, xtest, ytrain, ytest = Train_Test_Split(irisDf.drop('target', axis = 1), irisDf['target'], test_size = 0.2, random_state=10)"
   ]
  },
  {
   "cell_type": "code",
   "execution_count": 192,
   "metadata": {},
   "outputs": [],
   "source": [
    "class KNN:\n",
    "    def __init__(self, k):\n",
    "        self.k = k\n",
    "        \n",
    "    def fit(self, x, t):\n",
    "        self._xtrain = x\n",
    "        self._ytrain = t\n",
    "    def find_class(self, knearest):\n",
    "        classes_count = Counter(knearest).most_common(1)[0]\n",
    "        return classes_count[0]\n",
    "    \n",
    "    def predict(self, xtest):\n",
    "        test_size = len(xtest)\n",
    "        train_size = len(self._xtrain)\n",
    "        classes = []\n",
    "        for i in range(test_size):\n",
    "            distances=[]\n",
    "            for j in range(train_size):\n",
    "                euclidean = np.sqrt(np.sum(((xtest.iloc[i, :] - self._xtrain.iloc[j, :]) ** 2)))\n",
    "                distances.append(euclidean)\n",
    "            k_nearest_indices = np.argsort(distances)[:self.k]\n",
    "            k_nearest_labels = [self._ytrain.iloc[index] for index in k_nearest_indices]\n",
    "            # Predicted Class             \n",
    "            cls = self.find_class(k_nearest_labels)\n",
    "            classes.append(cls)\n",
    "            \n",
    "        return np.array(classes)\n",
    "    \n",
    "    def accuracy_score(self, true_class, predicted):\n",
    "        count = 0\n",
    "        for t, y in zip(true_class, predicted):\n",
    "            if(t == y):\n",
    "                count += 1\n",
    "        return count / len(true_class)\n",
    "        \n",
    "    def score(self, x, t):\n",
    "        y = self.predict(x)\n",
    "        return self.accuracy_score(t, y)"
   ]
  },
  {
   "cell_type": "code",
   "execution_count": 193,
   "metadata": {},
   "outputs": [],
   "source": [
    "model = KNN(5)\n",
    "model.fit(xtrain, ytrain)\n",
    "predicted_classes = model.predict(xtest)"
   ]
  },
  {
   "cell_type": "code",
   "execution_count": 194,
   "metadata": {},
   "outputs": [
    {
     "name": "stdout",
     "output_type": "stream",
     "text": [
      "Score on training data:  0.9666666666666667\n",
      "Score on testing data:  0.9666666666666667\n"
     ]
    }
   ],
   "source": [
    "train_score = model.score(xtrain, ytrain)\n",
    "test_score = model.score(xtest, ytest)\n",
    "print(\"Score on training data: \",train_score)\n",
    "print(\"Score on testing data: \",test_score)"
   ]
  },
  {
   "cell_type": "code",
   "execution_count": null,
   "metadata": {},
   "outputs": [],
   "source": []
  },
  {
   "cell_type": "code",
   "execution_count": null,
   "metadata": {},
   "outputs": [],
   "source": []
  }
 ],
 "metadata": {
  "kernelspec": {
   "display_name": "Python 3",
   "language": "python",
   "name": "python3"
  },
  "language_info": {
   "codemirror_mode": {
    "name": "ipython",
    "version": 3
   },
   "file_extension": ".py",
   "mimetype": "text/x-python",
   "name": "python",
   "nbconvert_exporter": "python",
   "pygments_lexer": "ipython3",
   "version": "3.8.5"
  }
 },
 "nbformat": 4,
 "nbformat_minor": 4
}
