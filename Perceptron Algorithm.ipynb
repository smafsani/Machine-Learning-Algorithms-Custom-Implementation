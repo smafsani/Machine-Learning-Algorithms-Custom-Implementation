{
 "cells": [
  {
   "cell_type": "code",
   "execution_count": 58,
   "metadata": {},
   "outputs": [],
   "source": [
    "import numpy as np\n",
    "from sklearn.model_selection import train_test_split\n",
    "from sklearn import datasets\n",
    "import matplotlib.pyplot as plt\n",
    "import pandas as pd"
   ]
  },
  {
   "cell_type": "code",
   "execution_count": 70,
   "metadata": {},
   "outputs": [],
   "source": [
    "x, y = datasets.make_blobs(n_samples=150, n_features=2, centers=2, cluster_std=1.05, random_state=2)\n",
    "y = np.where(y > 0, 1, 0)"
   ]
  },
  {
   "cell_type": "code",
   "execution_count": 71,
   "metadata": {},
   "outputs": [],
   "source": [
    "x_train, x_test, y_train, y_test = train_test_split(x, y, test_size=0.2, random_state = 10)"
   ]
  },
  {
   "cell_type": "code",
   "execution_count": 72,
   "metadata": {},
   "outputs": [],
   "source": [
    "class Perceptron:\n",
    "    \n",
    "    def __init__(self, lr=0.01, epoch=1000):\n",
    "        self.lr = lr\n",
    "        self.epoch = epoch\n",
    "        self.w = None\n",
    "    \n",
    "    def fit(self, x, y):\n",
    "        Y = np.copy(y)\n",
    "        X = np.copy(x)\n",
    "        X = np.insert(X, 0, 1.0, axis=1)\n",
    "        # I have added x0 = 1 to each sample to find the value of parameter w0\n",
    "        n_samples, n_features = X.shape\n",
    "        self.w = np.zeros(n_features)\n",
    "        \n",
    "        for _ in range(self.epoch):\n",
    "            for i in range(n_samples):\n",
    "                # self.w += self.lr * X[i] * (Y[i] - self.activation(np.dot(X[i], self.w)))\n",
    "                \n",
    "                # Writing it more clearly\n",
    "                output = self.activation(np.dot(X[i], self.w))\n",
    "                # update rule : w_new = w_old + learning_rate * (true_target - predicted_target) * X_i\n",
    "                self.w += self.lr * (Y[i] - output) * X[i]\n",
    "                \n",
    "        print(\"Fitting Complete\")\n",
    "        \n",
    "    def predict(self, x):\n",
    "        X = np.copy(x)\n",
    "        X = np.insert(X, 0, 1.0, axis=1)\n",
    "        y_predicted = []\n",
    "        n_samples, n_features = X.shape\n",
    "        \n",
    "        for i in range(n_samples):\n",
    "            y_predicted.append(self.activation(np.dot(self.w, X[i])))\n",
    "        return np.array(y_predicted)\n",
    "    \n",
    "    def activation(self, a):\n",
    "        if a > 0:\n",
    "            return 1\n",
    "        else:\n",
    "            return 0\n",
    "    \n",
    "    def misclassified_samples(self, y, t):\n",
    "        n_samples = len(y)\n",
    "        misclassified = 0\n",
    "        for i in range(n_samples):\n",
    "            if y[i] != t[i]:\n",
    "                misclassified += 1\n",
    "        if misclassified == 0:\n",
    "            print(\"There are no misclassified samples.\")\n",
    "        else:\n",
    "            print(f\"There Are {misclassified} Misclassified Samples\")\n",
    "    \n",
    "    def accuracy_score(self, t, y):\n",
    "        count = 0\n",
    "        for i in range(len(y)):\n",
    "            if(y[i] == t[i]):\n",
    "                count += 1\n",
    "        return count / len(t)\n",
    "    \n",
    "    def score(self, X, Y):\n",
    "        Y_pred = self.predict(X)\n",
    "        return self.accuracy_score(Y, Y_pred)"
   ]
  },
  {
   "cell_type": "code",
   "execution_count": null,
   "metadata": {},
   "outputs": [],
   "source": []
  },
  {
   "cell_type": "code",
   "execution_count": 73,
   "metadata": {},
   "outputs": [
    {
     "name": "stdout",
     "output_type": "stream",
     "text": [
      "Fitting Complete\n",
      "\n",
      "For training dataset\n",
      "There are no misclassified samples.\n",
      "Accuracy: 1.0\n",
      "\n",
      "For testing dataset\n",
      "There are no misclassified samples.\n",
      "Accuracy: 1.0\n"
     ]
    }
   ],
   "source": [
    "custom_perceptron = Perceptron()\n",
    "custom_perceptron.fit(x_train, y_train)\n",
    "\n",
    "y_pred = custom_perceptron.predict(x_train)\n",
    "print(\"\\nFor training dataset\")\n",
    "custom_perceptron.misclassified_samples(y_pred, y_train)\n",
    "print(f\"Accuracy: {accuracy(y_pred, y_train)}\")\n",
    "\n",
    "y_pred = custom_perceptron.predict(x_test)\n",
    "print(\"\\nFor testing dataset\")\n",
    "custom_perceptron.misclassified_samples(y_pred, y_test)\n",
    "print(f\"Accuracy: {accuracy(y_pred, y_test)}\")\n"
   ]
  },
  {
   "cell_type": "code",
   "execution_count": 74,
   "metadata": {},
   "outputs": [
    {
     "data": {
      "text/plain": [
       "1.0"
      ]
     },
     "execution_count": 74,
     "metadata": {},
     "output_type": "execute_result"
    }
   ],
   "source": [
    "custom_perceptron.score(x_train, y_train)"
   ]
  },
  {
   "cell_type": "code",
   "execution_count": 75,
   "metadata": {},
   "outputs": [],
   "source": [
    "from sklearn.linear_model import Perceptron"
   ]
  },
  {
   "cell_type": "code",
   "execution_count": 76,
   "metadata": {},
   "outputs": [
    {
     "data": {
      "text/plain": [
       "Perceptron()"
      ]
     },
     "execution_count": 76,
     "metadata": {},
     "output_type": "execute_result"
    }
   ],
   "source": [
    "perceptron = Perceptron(max_iter=1000, random_state=0)\n",
    "perceptron.fit(x_train, y_train)"
   ]
  },
  {
   "cell_type": "code",
   "execution_count": 77,
   "metadata": {},
   "outputs": [
    {
     "data": {
      "text/plain": [
       "1.0"
      ]
     },
     "execution_count": 77,
     "metadata": {},
     "output_type": "execute_result"
    }
   ],
   "source": [
    "perceptron.score(x_train, y_train)"
   ]
  },
  {
   "cell_type": "code",
   "execution_count": 78,
   "metadata": {},
   "outputs": [
    {
     "data": {
      "text/html": [
       "<div>\n",
       "<style scoped>\n",
       "    .dataframe tbody tr th:only-of-type {\n",
       "        vertical-align: middle;\n",
       "    }\n",
       "\n",
       "    .dataframe tbody tr th {\n",
       "        vertical-align: top;\n",
       "    }\n",
       "\n",
       "    .dataframe thead th {\n",
       "        text-align: right;\n",
       "    }\n",
       "</style>\n",
       "<table border=\"1\" class=\"dataframe\">\n",
       "  <thead>\n",
       "    <tr style=\"text-align: right;\">\n",
       "      <th></th>\n",
       "      <th>Data</th>\n",
       "      <th>Score</th>\n",
       "      <th>Custom Model</th>\n",
       "      <th>Built-in Model</th>\n",
       "    </tr>\n",
       "  </thead>\n",
       "  <tbody>\n",
       "    <tr>\n",
       "      <th>0</th>\n",
       "      <td>Training Data</td>\n",
       "      <td>Accuracy Score</td>\n",
       "      <td>1.0</td>\n",
       "      <td>1.0</td>\n",
       "    </tr>\n",
       "    <tr>\n",
       "      <th>1</th>\n",
       "      <td>Testing Data</td>\n",
       "      <td>Accuracy Score</td>\n",
       "      <td>1.0</td>\n",
       "      <td>1.0</td>\n",
       "    </tr>\n",
       "  </tbody>\n",
       "</table>\n",
       "</div>"
      ],
      "text/plain": [
       "            Data           Score  Custom Model  Built-in Model\n",
       "0  Training Data  Accuracy Score           1.0             1.0\n",
       "1   Testing Data  Accuracy Score           1.0             1.0"
      ]
     },
     "execution_count": 78,
     "metadata": {},
     "output_type": "execute_result"
    }
   ],
   "source": [
    "score_tr, score_te = custom_perceptron.score(x_train, y_train), custom_perceptron.score(x_test, y_test)\n",
    "score_tr2, score_te2 = perceptron.score(x_train, y_train), perceptron.score(x_test, y_test)\n",
    "data = [[\"Training Data\", \"Accuracy Score\", score_tr, score_tr2],\n",
    "       [\"Testing Data\", \"Accuracy Score\", score_te, score_te2]]\n",
    "result = pd.DataFrame(data, columns=[\"Data\", \"Score\", \"Custom Model\", \"Built-in Model\"])\n",
    "result"
   ]
  },
  {
   "cell_type": "code",
   "execution_count": null,
   "metadata": {},
   "outputs": [],
   "source": []
  },
  {
   "cell_type": "code",
   "execution_count": null,
   "metadata": {},
   "outputs": [],
   "source": []
  }
 ],
 "metadata": {
  "kernelspec": {
   "display_name": "Python 3",
   "language": "python",
   "name": "python3"
  }
 },
 "nbformat": 4,
 "nbformat_minor": 4
}
